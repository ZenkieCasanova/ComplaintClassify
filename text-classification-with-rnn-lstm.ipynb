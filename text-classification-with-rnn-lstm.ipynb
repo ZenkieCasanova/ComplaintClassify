{
 "cells": [
  {
   "cell_type": "code",
   "execution_count": 1,
   "metadata": {
    "_cell_guid": "b1076dfc-b9ad-4769-8c92-a6c4dae69d19",
    "_uuid": "8f2839f25d086af736a60e9eeb907d3b93b6e0e5",
    "execution": {
     "iopub.execute_input": "2023-05-06T08:10:29.486219Z",
     "iopub.status.busy": "2023-05-06T08:10:29.485727Z",
     "iopub.status.idle": "2023-05-06T08:10:29.530371Z",
     "shell.execute_reply": "2023-05-06T08:10:29.529237Z",
     "shell.execute_reply.started": "2023-05-06T08:10:29.486103Z"
    }
   },
   "outputs": [
    {
     "name": "stdout",
     "output_type": "stream",
     "text": [
      "/kaggle/input/consume-complaints-dataset-fo-nlp/complaints_processed.csv\n"
     ]
    }
   ],
   "source": [
    "# This Python 3 environment comes with many helpful analytics libraries installed\n",
    "# It is defined by the kaggle/python Docker image: https://github.com/kaggle/docker-python\n",
    "# For example, here's several helpful packages to load\n",
    "\n",
    "import numpy as np # linear algebra\n",
    "import pandas as pd # data processing, CSV file I/O (e.g. pd.read_csv)\n",
    "\n",
    "# Input data files are available in the read-only \"../input/\" directory\n",
    "# For example, running this (by clicking run or pressing Shift+Enter) will list all files under the input directory\n",
    "\n",
    "import os\n",
    "for dirname, _, filenames in os.walk('/kaggle/input'):\n",
    "    for filename in filenames:\n",
    "        print(os.path.join(dirname, filename))\n",
    "\n",
    "# You can write up to 20GB to the current directory (/kaggle/working/) that gets preserved as output when you create a version using \"Save & Run All\" \n",
    "# You can also write temporary files to /kaggle/temp/, but they won't be saved outside of the current session"
   ]
  },
  {
   "cell_type": "code",
   "execution_count": 2,
   "metadata": {
    "execution": {
     "iopub.execute_input": "2023-05-06T08:10:32.564013Z",
     "iopub.status.busy": "2023-05-06T08:10:32.563651Z",
     "iopub.status.idle": "2023-05-06T08:10:40.219127Z",
     "shell.execute_reply": "2023-05-06T08:10:40.218100Z",
     "shell.execute_reply.started": "2023-05-06T08:10:32.563981Z"
    }
   },
   "outputs": [],
   "source": [
    "import numpy as np \n",
    "import pandas as pd\n",
    "import matplotlib.pyplot as plt\n",
    "import seaborn as sns\n",
    "#from keras.preprocessing.text import Tokenizer\n",
    "#from keras.preprocessing.sequence import pad_sequences\n",
    "#from keras.models import Sequential\n",
    "#from keras.layers import Dense, Embedding, LSTM, SpatialDropout1D\n",
    "from sklearn.model_selection import train_test_split\n",
    "#from keras.utils.np_utils import to_categorical\n",
    "from keras.callbacks import EarlyStopping\n",
    "#from keras.layers import Dropout\n",
    "import re\n",
    "from nltk.corpus import stopwords\n",
    "from nltk import word_tokenize\n",
    "STOPWORDS = set(stopwords.words('english'))\n",
    "from bs4 import BeautifulSoup\n",
    "import plotly.graph_objs as go\n",
    "#import plotly.plotly as py\n",
    "#import cufflinks\n",
    "from IPython.core.interactiveshell import InteractiveShell\n",
    "#import plotly.figure_factory as ff\n",
    "InteractiveShell.ast_node_interactivity = 'all'\n",
    "from plotly.offline import iplot\n",
    "#cufflinks.go_offline()\n",
    "#cufflinks.set_config_file(world_readable=True, theme='pearl')\n",
    "# Keras\n",
    "import tensorflow as tf\n",
    "from tensorflow.keras.preprocessing.text import Tokenizer\n",
    "from tensorflow.keras.preprocessing.sequence import pad_sequences"
   ]
  },
  {
   "cell_type": "code",
   "execution_count": 3,
   "metadata": {
    "execution": {
     "iopub.execute_input": "2023-05-06T08:10:40.227319Z",
     "iopub.status.busy": "2023-05-06T08:10:40.224554Z",
     "iopub.status.idle": "2023-05-06T08:10:42.867859Z",
     "shell.execute_reply": "2023-05-06T08:10:42.866665Z",
     "shell.execute_reply.started": "2023-05-06T08:10:40.227270Z"
    }
   },
   "outputs": [
    {
     "name": "stdout",
     "output_type": "stream",
     "text": [
      "<class 'pandas.core.frame.DataFrame'>\n",
      "RangeIndex: 162421 entries, 0 to 162420\n",
      "Data columns (total 3 columns):\n",
      " #   Column      Non-Null Count   Dtype \n",
      "---  ------      --------------   ----- \n",
      " 0   Unnamed: 0  162421 non-null  int64 \n",
      " 1   product     162421 non-null  object\n",
      " 2   narrative   162411 non-null  object\n",
      "dtypes: int64(1), object(2)\n",
      "memory usage: 3.7+ MB\n"
     ]
    }
   ],
   "source": [
    "data = pd.read_csv('../input/consume-complaints-dataset-fo-nlp/complaints_processed.csv')\n",
    "data.info()"
   ]
  },
  {
   "cell_type": "code",
   "execution_count": 4,
   "metadata": {
    "execution": {
     "iopub.execute_input": "2023-05-06T08:10:42.870482Z",
     "iopub.status.busy": "2023-05-06T08:10:42.869687Z",
     "iopub.status.idle": "2023-05-06T08:10:42.893914Z",
     "shell.execute_reply": "2023-05-06T08:10:42.892874Z",
     "shell.execute_reply.started": "2023-05-06T08:10:42.870401Z"
    }
   },
   "outputs": [
    {
     "data": {
      "text/html": [
       "<div>\n",
       "<style scoped>\n",
       "    .dataframe tbody tr th:only-of-type {\n",
       "        vertical-align: middle;\n",
       "    }\n",
       "\n",
       "    .dataframe tbody tr th {\n",
       "        vertical-align: top;\n",
       "    }\n",
       "\n",
       "    .dataframe thead th {\n",
       "        text-align: right;\n",
       "    }\n",
       "</style>\n",
       "<table border=\"1\" class=\"dataframe\">\n",
       "  <thead>\n",
       "    <tr style=\"text-align: right;\">\n",
       "      <th></th>\n",
       "      <th>Unnamed: 0</th>\n",
       "      <th>product</th>\n",
       "      <th>narrative</th>\n",
       "    </tr>\n",
       "  </thead>\n",
       "  <tbody>\n",
       "    <tr>\n",
       "      <th>0</th>\n",
       "      <td>0</td>\n",
       "      <td>credit_card</td>\n",
       "      <td>purchase order day shipping amount receive pro...</td>\n",
       "    </tr>\n",
       "    <tr>\n",
       "      <th>1</th>\n",
       "      <td>1</td>\n",
       "      <td>credit_card</td>\n",
       "      <td>forwarded message date tue subject please inve...</td>\n",
       "    </tr>\n",
       "    <tr>\n",
       "      <th>2</th>\n",
       "      <td>2</td>\n",
       "      <td>retail_banking</td>\n",
       "      <td>forwarded message cc sent friday pdt subject f...</td>\n",
       "    </tr>\n",
       "    <tr>\n",
       "      <th>3</th>\n",
       "      <td>3</td>\n",
       "      <td>credit_reporting</td>\n",
       "      <td>payment history missing credit report speciali...</td>\n",
       "    </tr>\n",
       "    <tr>\n",
       "      <th>4</th>\n",
       "      <td>4</td>\n",
       "      <td>credit_reporting</td>\n",
       "      <td>payment history missing credit report made mis...</td>\n",
       "    </tr>\n",
       "  </tbody>\n",
       "</table>\n",
       "</div>"
      ],
      "text/plain": [
       "   Unnamed: 0           product  \\\n",
       "0           0       credit_card   \n",
       "1           1       credit_card   \n",
       "2           2    retail_banking   \n",
       "3           3  credit_reporting   \n",
       "4           4  credit_reporting   \n",
       "\n",
       "                                           narrative  \n",
       "0  purchase order day shipping amount receive pro...  \n",
       "1  forwarded message date tue subject please inve...  \n",
       "2  forwarded message cc sent friday pdt subject f...  \n",
       "3  payment history missing credit report speciali...  \n",
       "4  payment history missing credit report made mis...  "
      ]
     },
     "execution_count": 4,
     "metadata": {},
     "output_type": "execute_result"
    }
   ],
   "source": [
    "data.head()"
   ]
  },
  {
   "cell_type": "code",
   "execution_count": 5,
   "metadata": {
    "execution": {
     "iopub.execute_input": "2023-05-06T08:10:42.897283Z",
     "iopub.status.busy": "2023-05-06T08:10:42.896462Z",
     "iopub.status.idle": "2023-05-06T08:10:42.910610Z",
     "shell.execute_reply": "2023-05-06T08:10:42.909360Z",
     "shell.execute_reply.started": "2023-05-06T08:10:42.897233Z"
    }
   },
   "outputs": [],
   "source": [
    "data_n = data.drop(['Unnamed: 0'], axis= 1)"
   ]
  },
  {
   "cell_type": "code",
   "execution_count": 6,
   "metadata": {
    "execution": {
     "iopub.execute_input": "2023-05-06T08:10:42.913801Z",
     "iopub.status.busy": "2023-05-06T08:10:42.912917Z",
     "iopub.status.idle": "2023-05-06T08:10:42.981021Z",
     "shell.execute_reply": "2023-05-06T08:10:42.980066Z",
     "shell.execute_reply.started": "2023-05-06T08:10:42.913758Z"
    }
   },
   "outputs": [
    {
     "data": {
      "text/html": [
       "<div>\n",
       "<style scoped>\n",
       "    .dataframe tbody tr th:only-of-type {\n",
       "        vertical-align: middle;\n",
       "    }\n",
       "\n",
       "    .dataframe tbody tr th {\n",
       "        vertical-align: top;\n",
       "    }\n",
       "\n",
       "    .dataframe thead th {\n",
       "        text-align: right;\n",
       "    }\n",
       "</style>\n",
       "<table border=\"1\" class=\"dataframe\">\n",
       "  <thead>\n",
       "    <tr style=\"text-align: right;\">\n",
       "      <th></th>\n",
       "      <th>narrative</th>\n",
       "    </tr>\n",
       "    <tr>\n",
       "      <th>product</th>\n",
       "      <th></th>\n",
       "    </tr>\n",
       "  </thead>\n",
       "  <tbody>\n",
       "    <tr>\n",
       "      <th>credit_card</th>\n",
       "      <td>15566</td>\n",
       "    </tr>\n",
       "    <tr>\n",
       "      <th>credit_reporting</th>\n",
       "      <td>91172</td>\n",
       "    </tr>\n",
       "    <tr>\n",
       "      <th>debt_collection</th>\n",
       "      <td>23148</td>\n",
       "    </tr>\n",
       "    <tr>\n",
       "      <th>mortgages_and_loans</th>\n",
       "      <td>18990</td>\n",
       "    </tr>\n",
       "    <tr>\n",
       "      <th>retail_banking</th>\n",
       "      <td>13535</td>\n",
       "    </tr>\n",
       "  </tbody>\n",
       "</table>\n",
       "</div>"
      ],
      "text/plain": [
       "                     narrative\n",
       "product                       \n",
       "credit_card              15566\n",
       "credit_reporting         91172\n",
       "debt_collection          23148\n",
       "mortgages_and_loans      18990\n",
       "retail_banking           13535"
      ]
     },
     "execution_count": 6,
     "metadata": {},
     "output_type": "execute_result"
    }
   ],
   "source": [
    "data_n.groupby(['product']).count()"
   ]
  },
  {
   "cell_type": "code",
   "execution_count": 7,
   "metadata": {
    "execution": {
     "iopub.execute_input": "2023-05-06T08:10:46.711666Z",
     "iopub.status.busy": "2023-05-06T08:10:46.711105Z",
     "iopub.status.idle": "2023-05-06T08:10:50.491045Z",
     "shell.execute_reply": "2023-05-06T08:10:50.488710Z",
     "shell.execute_reply.started": "2023-05-06T08:10:46.711619Z"
    }
   },
   "outputs": [
    {
     "data": {
      "text/html": [
       "        <script type=\"text/javascript\">\n",
       "        window.PlotlyConfig = {MathJaxConfig: 'local'};\n",
       "        if (window.MathJax && window.MathJax.Hub && window.MathJax.Hub.Config) {window.MathJax.Hub.Config({SVG: {font: \"STIX-Web\"}});}\n",
       "        if (typeof require !== 'undefined') {\n",
       "        require.undef(\"plotly\");\n",
       "        requirejs.config({\n",
       "            paths: {\n",
       "                'plotly': ['https://cdn.plot.ly/plotly-2.12.1.min']\n",
       "            }\n",
       "        });\n",
       "        require(['plotly'], function(Plotly) {\n",
       "            window._Plotly = Plotly;\n",
       "        });\n",
       "        }\n",
       "        </script>\n",
       "        "
      ]
     },
     "metadata": {},
     "output_type": "display_data"
    },
    {
     "data": {
      "text/html": [
       "<div>                            <div id=\"b76a1b31-3225-43df-9254-54aa4c5c1382\" class=\"plotly-graph-div\" style=\"height:525px; width:100%;\"></div>            <script type=\"text/javascript\">                require([\"plotly\"], function(Plotly) {                    window.PLOTLYENV=window.PLOTLYENV || {};                                    if (document.getElementById(\"b76a1b31-3225-43df-9254-54aa4c5c1382\")) {                    Plotly.newPlot(                        \"b76a1b31-3225-43df-9254-54aa4c5c1382\",                        [{\"alignmentgroup\":\"True\",\"hovertemplate\":\"Variable=narrative<br>Product=%{x}<br>Count of Complaint=%{y}<extra></extra>\",\"legendgroup\":\"narrative\",\"marker\":{\"color\":\"#636efa\",\"pattern\":{\"shape\":\"\"}},\"name\":\"narrative\",\"offsetgroup\":\"narrative\",\"orientation\":\"v\",\"showlegend\":true,\"textposition\":\"auto\",\"x\":[\"credit_card\",\"credit_reporting\",\"debt_collection\",\"mortgages_and_loans\",\"retail_banking\"],\"xaxis\":\"x\",\"y\":[15566,91172,23148,18990,13535],\"yaxis\":\"y\",\"type\":\"bar\"}],                        {\"template\":{\"data\":{\"histogram2dcontour\":[{\"type\":\"histogram2dcontour\",\"colorbar\":{\"outlinewidth\":0,\"ticks\":\"\"},\"colorscale\":[[0.0,\"#0d0887\"],[0.1111111111111111,\"#46039f\"],[0.2222222222222222,\"#7201a8\"],[0.3333333333333333,\"#9c179e\"],[0.4444444444444444,\"#bd3786\"],[0.5555555555555556,\"#d8576b\"],[0.6666666666666666,\"#ed7953\"],[0.7777777777777778,\"#fb9f3a\"],[0.8888888888888888,\"#fdca26\"],[1.0,\"#f0f921\"]]}],\"choropleth\":[{\"type\":\"choropleth\",\"colorbar\":{\"outlinewidth\":0,\"ticks\":\"\"}}],\"histogram2d\":[{\"type\":\"histogram2d\",\"colorbar\":{\"outlinewidth\":0,\"ticks\":\"\"},\"colorscale\":[[0.0,\"#0d0887\"],[0.1111111111111111,\"#46039f\"],[0.2222222222222222,\"#7201a8\"],[0.3333333333333333,\"#9c179e\"],[0.4444444444444444,\"#bd3786\"],[0.5555555555555556,\"#d8576b\"],[0.6666666666666666,\"#ed7953\"],[0.7777777777777778,\"#fb9f3a\"],[0.8888888888888888,\"#fdca26\"],[1.0,\"#f0f921\"]]}],\"heatmap\":[{\"type\":\"heatmap\",\"colorbar\":{\"outlinewidth\":0,\"ticks\":\"\"},\"colorscale\":[[0.0,\"#0d0887\"],[0.1111111111111111,\"#46039f\"],[0.2222222222222222,\"#7201a8\"],[0.3333333333333333,\"#9c179e\"],[0.4444444444444444,\"#bd3786\"],[0.5555555555555556,\"#d8576b\"],[0.6666666666666666,\"#ed7953\"],[0.7777777777777778,\"#fb9f3a\"],[0.8888888888888888,\"#fdca26\"],[1.0,\"#f0f921\"]]}],\"heatmapgl\":[{\"type\":\"heatmapgl\",\"colorbar\":{\"outlinewidth\":0,\"ticks\":\"\"},\"colorscale\":[[0.0,\"#0d0887\"],[0.1111111111111111,\"#46039f\"],[0.2222222222222222,\"#7201a8\"],[0.3333333333333333,\"#9c179e\"],[0.4444444444444444,\"#bd3786\"],[0.5555555555555556,\"#d8576b\"],[0.6666666666666666,\"#ed7953\"],[0.7777777777777778,\"#fb9f3a\"],[0.8888888888888888,\"#fdca26\"],[1.0,\"#f0f921\"]]}],\"contourcarpet\":[{\"type\":\"contourcarpet\",\"colorbar\":{\"outlinewidth\":0,\"ticks\":\"\"}}],\"contour\":[{\"type\":\"contour\",\"colorbar\":{\"outlinewidth\":0,\"ticks\":\"\"},\"colorscale\":[[0.0,\"#0d0887\"],[0.1111111111111111,\"#46039f\"],[0.2222222222222222,\"#7201a8\"],[0.3333333333333333,\"#9c179e\"],[0.4444444444444444,\"#bd3786\"],[0.5555555555555556,\"#d8576b\"],[0.6666666666666666,\"#ed7953\"],[0.7777777777777778,\"#fb9f3a\"],[0.8888888888888888,\"#fdca26\"],[1.0,\"#f0f921\"]]}],\"surface\":[{\"type\":\"surface\",\"colorbar\":{\"outlinewidth\":0,\"ticks\":\"\"},\"colorscale\":[[0.0,\"#0d0887\"],[0.1111111111111111,\"#46039f\"],[0.2222222222222222,\"#7201a8\"],[0.3333333333333333,\"#9c179e\"],[0.4444444444444444,\"#bd3786\"],[0.5555555555555556,\"#d8576b\"],[0.6666666666666666,\"#ed7953\"],[0.7777777777777778,\"#fb9f3a\"],[0.8888888888888888,\"#fdca26\"],[1.0,\"#f0f921\"]]}],\"mesh3d\":[{\"type\":\"mesh3d\",\"colorbar\":{\"outlinewidth\":0,\"ticks\":\"\"}}],\"scatter\":[{\"fillpattern\":{\"fillmode\":\"overlay\",\"size\":10,\"solidity\":0.2},\"type\":\"scatter\"}],\"parcoords\":[{\"type\":\"parcoords\",\"line\":{\"colorbar\":{\"outlinewidth\":0,\"ticks\":\"\"}}}],\"scatterpolargl\":[{\"type\":\"scatterpolargl\",\"marker\":{\"colorbar\":{\"outlinewidth\":0,\"ticks\":\"\"}}}],\"bar\":[{\"error_x\":{\"color\":\"#2a3f5f\"},\"error_y\":{\"color\":\"#2a3f5f\"},\"marker\":{\"line\":{\"color\":\"#E5ECF6\",\"width\":0.5},\"pattern\":{\"fillmode\":\"overlay\",\"size\":10,\"solidity\":0.2}},\"type\":\"bar\"}],\"scattergeo\":[{\"type\":\"scattergeo\",\"marker\":{\"colorbar\":{\"outlinewidth\":0,\"ticks\":\"\"}}}],\"scatterpolar\":[{\"type\":\"scatterpolar\",\"marker\":{\"colorbar\":{\"outlinewidth\":0,\"ticks\":\"\"}}}],\"histogram\":[{\"marker\":{\"pattern\":{\"fillmode\":\"overlay\",\"size\":10,\"solidity\":0.2}},\"type\":\"histogram\"}],\"scattergl\":[{\"type\":\"scattergl\",\"marker\":{\"colorbar\":{\"outlinewidth\":0,\"ticks\":\"\"}}}],\"scatter3d\":[{\"type\":\"scatter3d\",\"line\":{\"colorbar\":{\"outlinewidth\":0,\"ticks\":\"\"}},\"marker\":{\"colorbar\":{\"outlinewidth\":0,\"ticks\":\"\"}}}],\"scattermapbox\":[{\"type\":\"scattermapbox\",\"marker\":{\"colorbar\":{\"outlinewidth\":0,\"ticks\":\"\"}}}],\"scatterternary\":[{\"type\":\"scatterternary\",\"marker\":{\"colorbar\":{\"outlinewidth\":0,\"ticks\":\"\"}}}],\"scattercarpet\":[{\"type\":\"scattercarpet\",\"marker\":{\"colorbar\":{\"outlinewidth\":0,\"ticks\":\"\"}}}],\"carpet\":[{\"aaxis\":{\"endlinecolor\":\"#2a3f5f\",\"gridcolor\":\"white\",\"linecolor\":\"white\",\"minorgridcolor\":\"white\",\"startlinecolor\":\"#2a3f5f\"},\"baxis\":{\"endlinecolor\":\"#2a3f5f\",\"gridcolor\":\"white\",\"linecolor\":\"white\",\"minorgridcolor\":\"white\",\"startlinecolor\":\"#2a3f5f\"},\"type\":\"carpet\"}],\"table\":[{\"cells\":{\"fill\":{\"color\":\"#EBF0F8\"},\"line\":{\"color\":\"white\"}},\"header\":{\"fill\":{\"color\":\"#C8D4E3\"},\"line\":{\"color\":\"white\"}},\"type\":\"table\"}],\"barpolar\":[{\"marker\":{\"line\":{\"color\":\"#E5ECF6\",\"width\":0.5},\"pattern\":{\"fillmode\":\"overlay\",\"size\":10,\"solidity\":0.2}},\"type\":\"barpolar\"}],\"pie\":[{\"automargin\":true,\"type\":\"pie\"}]},\"layout\":{\"autotypenumbers\":\"strict\",\"colorway\":[\"#636efa\",\"#EF553B\",\"#00cc96\",\"#ab63fa\",\"#FFA15A\",\"#19d3f3\",\"#FF6692\",\"#B6E880\",\"#FF97FF\",\"#FECB52\"],\"font\":{\"color\":\"#2a3f5f\"},\"hovermode\":\"closest\",\"hoverlabel\":{\"align\":\"left\"},\"paper_bgcolor\":\"white\",\"plot_bgcolor\":\"#E5ECF6\",\"polar\":{\"bgcolor\":\"#E5ECF6\",\"angularaxis\":{\"gridcolor\":\"white\",\"linecolor\":\"white\",\"ticks\":\"\"},\"radialaxis\":{\"gridcolor\":\"white\",\"linecolor\":\"white\",\"ticks\":\"\"}},\"ternary\":{\"bgcolor\":\"#E5ECF6\",\"aaxis\":{\"gridcolor\":\"white\",\"linecolor\":\"white\",\"ticks\":\"\"},\"baxis\":{\"gridcolor\":\"white\",\"linecolor\":\"white\",\"ticks\":\"\"},\"caxis\":{\"gridcolor\":\"white\",\"linecolor\":\"white\",\"ticks\":\"\"}},\"coloraxis\":{\"colorbar\":{\"outlinewidth\":0,\"ticks\":\"\"}},\"colorscale\":{\"sequential\":[[0.0,\"#0d0887\"],[0.1111111111111111,\"#46039f\"],[0.2222222222222222,\"#7201a8\"],[0.3333333333333333,\"#9c179e\"],[0.4444444444444444,\"#bd3786\"],[0.5555555555555556,\"#d8576b\"],[0.6666666666666666,\"#ed7953\"],[0.7777777777777778,\"#fb9f3a\"],[0.8888888888888888,\"#fdca26\"],[1.0,\"#f0f921\"]],\"sequentialminus\":[[0.0,\"#0d0887\"],[0.1111111111111111,\"#46039f\"],[0.2222222222222222,\"#7201a8\"],[0.3333333333333333,\"#9c179e\"],[0.4444444444444444,\"#bd3786\"],[0.5555555555555556,\"#d8576b\"],[0.6666666666666666,\"#ed7953\"],[0.7777777777777778,\"#fb9f3a\"],[0.8888888888888888,\"#fdca26\"],[1.0,\"#f0f921\"]],\"diverging\":[[0,\"#8e0152\"],[0.1,\"#c51b7d\"],[0.2,\"#de77ae\"],[0.3,\"#f1b6da\"],[0.4,\"#fde0ef\"],[0.5,\"#f7f7f7\"],[0.6,\"#e6f5d0\"],[0.7,\"#b8e186\"],[0.8,\"#7fbc41\"],[0.9,\"#4d9221\"],[1,\"#276419\"]]},\"xaxis\":{\"gridcolor\":\"white\",\"linecolor\":\"white\",\"ticks\":\"\",\"title\":{\"standoff\":15},\"zerolinecolor\":\"white\",\"automargin\":true,\"zerolinewidth\":2},\"yaxis\":{\"gridcolor\":\"white\",\"linecolor\":\"white\",\"ticks\":\"\",\"title\":{\"standoff\":15},\"zerolinecolor\":\"white\",\"automargin\":true,\"zerolinewidth\":2},\"scene\":{\"xaxis\":{\"backgroundcolor\":\"#E5ECF6\",\"gridcolor\":\"white\",\"linecolor\":\"white\",\"showbackground\":true,\"ticks\":\"\",\"zerolinecolor\":\"white\",\"gridwidth\":2},\"yaxis\":{\"backgroundcolor\":\"#E5ECF6\",\"gridcolor\":\"white\",\"linecolor\":\"white\",\"showbackground\":true,\"ticks\":\"\",\"zerolinecolor\":\"white\",\"gridwidth\":2},\"zaxis\":{\"backgroundcolor\":\"#E5ECF6\",\"gridcolor\":\"white\",\"linecolor\":\"white\",\"showbackground\":true,\"ticks\":\"\",\"zerolinecolor\":\"white\",\"gridwidth\":2}},\"shapedefaults\":{\"line\":{\"color\":\"#2a3f5f\"}},\"annotationdefaults\":{\"arrowcolor\":\"#2a3f5f\",\"arrowhead\":0,\"arrowwidth\":1},\"geo\":{\"bgcolor\":\"white\",\"landcolor\":\"#E5ECF6\",\"subunitcolor\":\"white\",\"showland\":true,\"showlakes\":true,\"lakecolor\":\"white\"},\"title\":{\"x\":0.05},\"mapbox\":{\"style\":\"light\"}}},\"xaxis\":{\"anchor\":\"y\",\"domain\":[0.0,1.0],\"title\":{\"text\":\"Product\"}},\"yaxis\":{\"anchor\":\"x\",\"domain\":[0.0,1.0],\"title\":{\"text\":\"Count of Complaint\"}},\"legend\":{\"title\":{\"text\":\"Variable\"},\"tracegroupgap\":0},\"title\":{\"text\":\"Count Complaint in Each Product\"},\"barmode\":\"relative\"},                        {\"responsive\": true}                    ).then(function(){\n",
       "                            \n",
       "var gd = document.getElementById('b76a1b31-3225-43df-9254-54aa4c5c1382');\n",
       "var x = new MutationObserver(function (mutations, observer) {{\n",
       "        var display = window.getComputedStyle(gd).display;\n",
       "        if (!display || display === 'none') {{\n",
       "            console.log([gd, 'removed!']);\n",
       "            Plotly.purge(gd);\n",
       "            observer.disconnect();\n",
       "        }}\n",
       "}});\n",
       "\n",
       "// Listen for the removal of the full notebook cells\n",
       "var notebookContainer = gd.closest('#notebook-container');\n",
       "if (notebookContainer) {{\n",
       "    x.observe(notebookContainer, {childList: true});\n",
       "}}\n",
       "\n",
       "// Listen for the clearing of the current output cell\n",
       "var outputEl = gd.closest('.output');\n",
       "if (outputEl) {{\n",
       "    x.observe(outputEl, {childList: true});\n",
       "}}\n",
       "\n",
       "                        })                };                });            </script>        </div>"
      ]
     },
     "metadata": {},
     "output_type": "display_data"
    }
   ],
   "source": [
    "import plotly.express as px\n",
    "fig = px.bar(data_n.groupby(['product']).count(),\n",
    "             labels={\n",
    "                     \"product\": \"Product\",\n",
    "                     \"value\": \"Count of Complaint\",\n",
    "                     \"variable\": \"Variable\"\n",
    "                 },\n",
    "                title=\"Count Complaint in Each Product\")\n",
    "fig.show()"
   ]
  },
  {
   "cell_type": "markdown",
   "metadata": {},
   "source": [
    "# **Text Pre-processing**"
   ]
  },
  {
   "cell_type": "code",
   "execution_count": 8,
   "metadata": {
    "execution": {
     "iopub.execute_input": "2023-05-06T08:10:50.493617Z",
     "iopub.status.busy": "2023-05-06T08:10:50.493143Z",
     "iopub.status.idle": "2023-05-06T08:10:50.508634Z",
     "shell.execute_reply": "2023-05-06T08:10:50.507450Z",
     "shell.execute_reply.started": "2023-05-06T08:10:50.493572Z"
    }
   },
   "outputs": [
    {
     "data": {
      "text/html": [
       "<div>\n",
       "<style scoped>\n",
       "    .dataframe tbody tr th:only-of-type {\n",
       "        vertical-align: middle;\n",
       "    }\n",
       "\n",
       "    .dataframe tbody tr th {\n",
       "        vertical-align: top;\n",
       "    }\n",
       "\n",
       "    .dataframe thead th {\n",
       "        text-align: right;\n",
       "    }\n",
       "</style>\n",
       "<table border=\"1\" class=\"dataframe\">\n",
       "  <thead>\n",
       "    <tr style=\"text-align: right;\">\n",
       "      <th></th>\n",
       "      <th>product</th>\n",
       "      <th>narrative</th>\n",
       "    </tr>\n",
       "  </thead>\n",
       "  <tbody>\n",
       "    <tr>\n",
       "      <th>0</th>\n",
       "      <td>credit_card</td>\n",
       "      <td>purchase order day shipping amount receive pro...</td>\n",
       "    </tr>\n",
       "    <tr>\n",
       "      <th>1</th>\n",
       "      <td>credit_card</td>\n",
       "      <td>forwarded message date tue subject please inve...</td>\n",
       "    </tr>\n",
       "    <tr>\n",
       "      <th>2</th>\n",
       "      <td>retail_banking</td>\n",
       "      <td>forwarded message cc sent friday pdt subject f...</td>\n",
       "    </tr>\n",
       "    <tr>\n",
       "      <th>3</th>\n",
       "      <td>credit_reporting</td>\n",
       "      <td>payment history missing credit report speciali...</td>\n",
       "    </tr>\n",
       "    <tr>\n",
       "      <th>4</th>\n",
       "      <td>credit_reporting</td>\n",
       "      <td>payment history missing credit report made mis...</td>\n",
       "    </tr>\n",
       "  </tbody>\n",
       "</table>\n",
       "</div>"
      ],
      "text/plain": [
       "            product                                          narrative\n",
       "0       credit_card  purchase order day shipping amount receive pro...\n",
       "1       credit_card  forwarded message date tue subject please inve...\n",
       "2    retail_banking  forwarded message cc sent friday pdt subject f...\n",
       "3  credit_reporting  payment history missing credit report speciali...\n",
       "4  credit_reporting  payment history missing credit report made mis..."
      ]
     },
     "execution_count": 8,
     "metadata": {},
     "output_type": "execute_result"
    }
   ],
   "source": [
    "data_n.head()"
   ]
  },
  {
   "cell_type": "code",
   "execution_count": 9,
   "metadata": {
    "execution": {
     "iopub.execute_input": "2023-05-06T08:10:52.205527Z",
     "iopub.status.busy": "2023-05-06T08:10:52.204961Z",
     "iopub.status.idle": "2023-05-06T08:10:52.214110Z",
     "shell.execute_reply": "2023-05-06T08:10:52.213222Z",
     "shell.execute_reply.started": "2023-05-06T08:10:52.205477Z"
    }
   },
   "outputs": [
    {
     "name": "stdout",
     "output_type": "stream",
     "text": [
      "beginning mortgage held mb financial mb mortgage portfolio purchased bank first quarter mb financial customer began fall behind mortgage payment due unemployment divorce house went foreclosure later sheriff sale home scheduled morning submitted hardship application end documentation specific date letter dated acknowledges application discussed next step never received written verbal confirmation regarding status hardship application day scheduled sheriff sale communication way sale never provided clear determination application made payment brought account current able taking loan group friend would lost home sheriff auction day sale received express mail letter dated date scheduled sheriff sale saying hardship application approved detail trial payment plan received letter timeframe required promised would take full loan friend would made required payment delay review option held numerous call since large payment told trial plan leading loan modification place payment plan fact made brought account current documentation effect extending one call confirm status mortgage department even made branch local branch manager line ensure misunderstanding aspect found process confusing told call branch manager participated could expect receive loan modification agreement end happen told subsequent call would receive end still happened week ago became concerned process might impacted covid pandemic call told loan modification going happen made payment bring account current never told conversation written communication since hardship application submitted end told would need resubmit hardship application go process approved would put overall timeframe modify mortgage nearly year assuming submitted took day review made monthly payment took another one two month get agreement hold two business significant financial responsibility unintelligent lacking understanding fiscal matter found experience absolutely frustrating held commitment submitting cfpb hope might rectify situation potentially others interim planning applying covid hardship forbearance separate reapplication hardship program\n",
      "Product: mortgages_and_loans\n"
     ]
    }
   ],
   "source": [
    "def print_plot(index):\n",
    "    example = data_n[data_n.index == index][['narrative', 'product']].values[0]\n",
    "    if len(example) > 0:\n",
    "        print(example[0])\n",
    "        print('Product:', example[1])\n",
    "print_plot(10)"
   ]
  },
  {
   "cell_type": "code",
   "execution_count": 10,
   "metadata": {
    "execution": {
     "iopub.execute_input": "2023-05-06T08:10:54.861148Z",
     "iopub.status.busy": "2023-05-06T08:10:54.860756Z",
     "iopub.status.idle": "2023-05-06T08:10:54.868399Z",
     "shell.execute_reply": "2023-05-06T08:10:54.867200Z",
     "shell.execute_reply.started": "2023-05-06T08:10:54.861115Z"
    }
   },
   "outputs": [
    {
     "name": "stdout",
     "output_type": "stream",
     "text": [
      "hello name trying reach several time get problem fixed receipted response far wrong adresses employment information exist credit account year addition also derogatory information appear credit report belong business address employment information need removed info priority expedite reported ar ar\n",
      "Product: credit_reporting\n"
     ]
    }
   ],
   "source": [
    "print_plot(70)"
   ]
  },
  {
   "cell_type": "code",
   "execution_count": 11,
   "metadata": {
    "execution": {
     "iopub.execute_input": "2023-05-06T08:10:57.636339Z",
     "iopub.status.busy": "2023-05-06T08:10:57.635894Z",
     "iopub.status.idle": "2023-05-06T08:10:57.672210Z",
     "shell.execute_reply": "2023-05-06T08:10:57.670957Z",
     "shell.execute_reply.started": "2023-05-06T08:10:57.636303Z"
    }
   },
   "outputs": [
    {
     "name": "stdout",
     "output_type": "stream",
     "text": [
      "<class 'pandas.core.frame.DataFrame'>\n",
      "RangeIndex: 162421 entries, 0 to 162420\n",
      "Data columns (total 2 columns):\n",
      " #   Column     Non-Null Count   Dtype \n",
      "---  ------     --------------   ----- \n",
      " 0   product    162421 non-null  object\n",
      " 1   narrative  162411 non-null  object\n",
      "dtypes: object(2)\n",
      "memory usage: 2.5+ MB\n"
     ]
    }
   ],
   "source": [
    "data_n.info()"
   ]
  },
  {
   "cell_type": "code",
   "execution_count": 12,
   "metadata": {
    "execution": {
     "iopub.execute_input": "2023-05-06T08:10:59.804988Z",
     "iopub.status.busy": "2023-05-06T08:10:59.804576Z",
     "iopub.status.idle": "2023-05-06T08:11:06.036761Z",
     "shell.execute_reply": "2023-05-06T08:11:06.035811Z",
     "shell.execute_reply.started": "2023-05-06T08:10:59.804947Z"
    }
   },
   "outputs": [
    {
     "name": "stderr",
     "output_type": "stream",
     "text": [
      "/opt/conda/lib/python3.7/site-packages/ipykernel_launcher.py:27: FutureWarning:\n",
      "\n",
      "The default value of regex will change from True to False in a future version.\n",
      "\n"
     ]
    }
   ],
   "source": [
    "data_n = data_n.reset_index(drop=True)\n",
    "REPLACE_BY_SPACE_RE = re.compile('[/(){}\\[\\]\\|@,;]')\n",
    "BAD_SYMBOLS_RE = re.compile('[^0-9a-z #+_]')\n",
    "STOPWORDS = set(stopwords.words('english'))\n",
    "\n",
    "def clean_text(text):\n",
    "    \"\"\"\n",
    "        text: a string\n",
    "        \n",
    "        return: modified initial string\n",
    "    \"\"\"\n",
    "    text = str(text)\n",
    "    text = text.lower() # lowercase text\n",
    "    text = REPLACE_BY_SPACE_RE.sub(' ', text) \n",
    "    # replace REPLACE_BY_SPACE_RE symbols by space in text. \n",
    "    # substitute the matched string in REPLACE_BY_SPACE_RE with space.\n",
    "    \n",
    "    text = BAD_SYMBOLS_RE.sub('', text) \n",
    "    # remove symbols which are in BAD_SYMBOLS_RE from text. \n",
    "    # substitute the matched string in BAD_SYMBOLS_RE with nothing. \n",
    "    #text = text.replace('x', '')\n",
    "    #text = re.sub(r'\\W+', '', text)\n",
    "    text = ' '.join(word for word in text.split() if word not in STOPWORDS) \n",
    "    # remove stopwors from text\n",
    "    return text\n",
    "data_n['narrative'] = data_n['narrative'].apply(clean_text)\n",
    "data_n['narrative'] = data_n['narrative'].str.replace('\\d+', '')"
   ]
  },
  {
   "cell_type": "code",
   "execution_count": 42,
   "metadata": {
    "execution": {
     "iopub.execute_input": "2023-05-06T03:35:28.710311Z",
     "iopub.status.busy": "2023-05-06T03:35:28.709852Z",
     "iopub.status.idle": "2023-05-06T03:35:28.717475Z",
     "shell.execute_reply": "2023-05-06T03:35:28.716600Z",
     "shell.execute_reply.started": "2023-05-06T03:35:28.710272Z"
    }
   },
   "outputs": [
    {
     "name": "stdout",
     "output_type": "stream",
     "text": [
      "name last four account number writing dispute late payment reported impacted covid virus hospital long time lost job spoke advised payment deferred get credit alert reported past due violation care act late payment need removed pay account full correct credit report remove erroinious late fee told provided protection care act failed adhere offered one called received written notice term deferred plan rely rep told thought protected need make right comply care act fix credit reporting remove late fee call done account negative told going forebarace would put account credit limit illegal credit ruined udapp violation care act violation\n",
      "Product: credit_reporting\n"
     ]
    }
   ],
   "source": [
    "print_plot(30)"
   ]
  },
  {
   "cell_type": "code",
   "execution_count": 13,
   "metadata": {
    "execution": {
     "iopub.execute_input": "2023-05-06T08:11:06.039128Z",
     "iopub.status.busy": "2023-05-06T08:11:06.038655Z",
     "iopub.status.idle": "2023-05-06T08:11:18.160182Z",
     "shell.execute_reply": "2023-05-06T08:11:18.159147Z",
     "shell.execute_reply.started": "2023-05-06T08:11:06.039084Z"
    }
   },
   "outputs": [
    {
     "name": "stdout",
     "output_type": "stream",
     "text": [
      "Found 45960 unique tokens.\n"
     ]
    }
   ],
   "source": [
    "# The maximum number of words to be used. (most frequent)\n",
    "MAX_NB_WORDS = 50000\n",
    "# Max number of words in each complaint.\n",
    "MAX_SEQUENCE_LENGTH = 110\n",
    "# This is fixed.\n",
    "EMBEDDING_DIM = 100\n",
    "\n",
    "tokenizer = Tokenizer(num_words=MAX_NB_WORDS, \n",
    "                      filters='!\"#$%&()*+,-./:;<=>?@[\\]^_`{|}~', \n",
    "                      lower=True)\n",
    "tokenizer.fit_on_texts(data_n['narrative'].values)\n",
    "word_index = tokenizer.word_index\n",
    "print('Found %s unique tokens.' % len(word_index))"
   ]
  },
  {
   "cell_type": "code",
   "execution_count": 14,
   "metadata": {
    "execution": {
     "iopub.execute_input": "2023-05-06T08:11:18.163450Z",
     "iopub.status.busy": "2023-05-06T08:11:18.161905Z",
     "iopub.status.idle": "2023-05-06T08:11:27.988011Z",
     "shell.execute_reply": "2023-05-06T08:11:27.987059Z",
     "shell.execute_reply.started": "2023-05-06T08:11:18.163408Z"
    }
   },
   "outputs": [
    {
     "name": "stdout",
     "output_type": "stream",
     "text": [
      "Shape of data tensor: (162421, 110)\n"
     ]
    }
   ],
   "source": [
    "X = tokenizer.texts_to_sequences(data_n['narrative'].values)\n",
    "X = pad_sequences(X, maxlen=MAX_SEQUENCE_LENGTH)\n",
    "print('Shape of data tensor:', X.shape)"
   ]
  },
  {
   "cell_type": "code",
   "execution_count": 15,
   "metadata": {
    "execution": {
     "iopub.execute_input": "2023-05-06T08:11:27.990147Z",
     "iopub.status.busy": "2023-05-06T08:11:27.989314Z",
     "iopub.status.idle": "2023-05-06T08:11:28.017076Z",
     "shell.execute_reply": "2023-05-06T08:11:28.014977Z",
     "shell.execute_reply.started": "2023-05-06T08:11:27.990103Z"
    }
   },
   "outputs": [
    {
     "name": "stdout",
     "output_type": "stream",
     "text": [
      "Shape of label tensor: (162421, 5)\n"
     ]
    }
   ],
   "source": [
    "Y = pd.get_dummies(data_n['product']).values\n",
    "print('Shape of label tensor:', Y.shape)"
   ]
  },
  {
   "cell_type": "code",
   "execution_count": 16,
   "metadata": {
    "execution": {
     "iopub.execute_input": "2023-05-06T08:11:28.019887Z",
     "iopub.status.busy": "2023-05-06T08:11:28.019434Z",
     "iopub.status.idle": "2023-05-06T08:11:28.069773Z",
     "shell.execute_reply": "2023-05-06T08:11:28.068736Z",
     "shell.execute_reply.started": "2023-05-06T08:11:28.019844Z"
    }
   },
   "outputs": [
    {
     "name": "stdout",
     "output_type": "stream",
     "text": [
      "(146178, 110) (146178, 5)\n",
      "(16243, 110) (16243, 5)\n"
     ]
    }
   ],
   "source": [
    "X_train, X_test, Y_train, Y_test = train_test_split(X,Y, test_size = 0.10, random_state = 42)\n",
    "print(X_train.shape,Y_train.shape)\n",
    "print(X_test.shape,Y_test.shape)"
   ]
  },
  {
   "cell_type": "markdown",
   "metadata": {},
   "source": [
    "# **Modelling**"
   ]
  },
  {
   "cell_type": "code",
   "execution_count": 17,
   "metadata": {
    "execution": {
     "iopub.execute_input": "2023-05-06T08:11:28.072400Z",
     "iopub.status.busy": "2023-05-06T08:11:28.071318Z",
     "iopub.status.idle": "2023-05-06T08:11:32.017255Z",
     "shell.execute_reply": "2023-05-06T08:11:32.016247Z",
     "shell.execute_reply.started": "2023-05-06T08:11:28.072357Z"
    }
   },
   "outputs": [
    {
     "name": "stdout",
     "output_type": "stream",
     "text": [
      "Model: \"sequential\"\n",
      "_________________________________________________________________\n",
      "Layer (type)                 Output Shape              Param #   \n",
      "=================================================================\n",
      "embedding (Embedding)        (None, 110, 100)          5000000   \n",
      "_________________________________________________________________\n",
      "spatial_dropout1d (SpatialDr (None, 110, 100)          0         \n",
      "_________________________________________________________________\n",
      "bidirectional (Bidirectional (None, 110, 512)          731136    \n",
      "_________________________________________________________________\n",
      "bidirectional_1 (Bidirection (None, 256)               656384    \n",
      "_________________________________________________________________\n",
      "dense (Dense)                (None, 5)                 1285      \n",
      "=================================================================\n",
      "Total params: 6,388,805\n",
      "Trainable params: 6,388,805\n",
      "Non-trainable params: 0\n",
      "_________________________________________________________________\n"
     ]
    }
   ],
   "source": [
    "## Model Architecture\n",
    "model = tf.keras.Sequential([\n",
    "    tf.keras.layers.Embedding(MAX_NB_WORDS, EMBEDDING_DIM,\n",
    "                              input_length=X.shape[1]),\n",
    "    tf.keras.layers.SpatialDropout1D(0.3),\n",
    "    tf.keras.layers.Bidirectional(tf.keras.layers.LSTM(256, \n",
    "                                                       return_sequences=True)),\n",
    "    tf.keras.layers.Bidirectional(tf.keras.layers.LSTM(128)),\n",
    "    #tf.keras.layers.Dense(128, activation='softmax'),\n",
    "    tf.keras.layers.Dense(5, activation='softmax')\n",
    "])\n",
    "model.summary()"
   ]
  },
  {
   "cell_type": "code",
   "execution_count": 18,
   "metadata": {
    "execution": {
     "iopub.execute_input": "2023-05-06T08:11:32.019306Z",
     "iopub.status.busy": "2023-05-06T08:11:32.018716Z",
     "iopub.status.idle": "2023-05-06T08:11:32.027932Z",
     "shell.execute_reply": "2023-05-06T08:11:32.026230Z",
     "shell.execute_reply.started": "2023-05-06T08:11:32.019265Z"
    }
   },
   "outputs": [
    {
     "ename": "SyntaxError",
     "evalue": "positional argument follows keyword argument (3972077302.py, line 11)",
     "output_type": "error",
     "traceback": [
      "\u001b[0;36m  File \u001b[0;32m\"/tmp/ipykernel_17/3972077302.py\"\u001b[0;36m, line \u001b[0;32m11\u001b[0m\n\u001b[0;31m    model.fit(X_train, y_train, class_weight=class_weights_dict, ...)\u001b[0m\n\u001b[0m                                                                ^\u001b[0m\n\u001b[0;31mSyntaxError\u001b[0m\u001b[0;31m:\u001b[0m positional argument follows keyword argument\n"
     ]
    }
   ],
   "source": [
    "import numpy as np\n",
    "from sklearn.utils.class_weight import compute_class_weight\n",
    "\n",
    "# Calculate class weights\n",
    "class_weights = compute_class_weight('balanced', np.unique(y_train), y_train)\n",
    "\n",
    "# Convert class weights to a dictionary\n",
    "class_weights_dict = dict(enumerate(class_weights))\n",
    "\n",
    "# Train the model with class weights\n",
    "model.fit(X_train, y_train, class_weight=class_weights_dict, ...)"
   ]
  },
  {
   "cell_type": "code",
   "execution_count": 19,
   "metadata": {
    "execution": {
     "iopub.execute_input": "2023-05-06T08:16:09.435323Z",
     "iopub.status.busy": "2023-05-06T08:16:09.434906Z",
     "iopub.status.idle": "2023-05-06T08:16:09.456710Z",
     "shell.execute_reply": "2023-05-06T08:16:09.455722Z",
     "shell.execute_reply.started": "2023-05-06T08:16:09.435288Z"
    }
   },
   "outputs": [],
   "source": [
    "from tensorflow.keras.optimizers import Adam\n",
    "model.compile(loss=tf.keras.losses.CategoricalCrossentropy(from_logits=True), \n",
    "              optimizer= Adam(learning_rate=0.0001), metrics=[\"CategoricalAccuracy\"])"
   ]
  },
  {
   "cell_type": "code",
   "execution_count": 20,
   "metadata": {
    "execution": {
     "iopub.execute_input": "2023-05-06T08:16:11.340085Z",
     "iopub.status.busy": "2023-05-06T08:16:11.339163Z",
     "iopub.status.idle": "2023-05-06T08:28:46.719602Z",
     "shell.execute_reply": "2023-05-06T08:28:46.718471Z",
     "shell.execute_reply.started": "2023-05-06T08:16:11.340043Z"
    }
   },
   "outputs": [
    {
     "name": "stdout",
     "output_type": "stream",
     "text": [
      "Epoch 1/30\n"
     ]
    },
    {
     "name": "stderr",
     "output_type": "stream",
     "text": [
      "/opt/conda/lib/python3.7/site-packages/keras/backend.py:4847: UserWarning:\n",
      "\n",
      "\"`categorical_crossentropy` received `from_logits=True`, but the `output` argument was produced by a sigmoid or softmax activation and thus does not represent logits. Was this intended?\"\n",
      "\n"
     ]
    },
    {
     "name": "stdout",
     "output_type": "stream",
     "text": [
      "1028/1028 [==============================] - 71s 62ms/step - loss: 0.7827 - categorical_accuracy: 0.7033 - val_loss: 0.5072 - val_categorical_accuracy: 0.8177\n",
      "Epoch 2/30\n",
      "1028/1028 [==============================] - 62s 61ms/step - loss: 0.4691 - categorical_accuracy: 0.8376 - val_loss: 0.4186 - val_categorical_accuracy: 0.8570\n",
      "Epoch 3/30\n",
      "1028/1028 [==============================] - 62s 60ms/step - loss: 0.4061 - categorical_accuracy: 0.8612 - val_loss: 0.4036 - val_categorical_accuracy: 0.8634\n",
      "Epoch 4/30\n",
      "1028/1028 [==============================] - 62s 60ms/step - loss: 0.3718 - categorical_accuracy: 0.8731 - val_loss: 0.3893 - val_categorical_accuracy: 0.8674\n",
      "Epoch 5/30\n",
      "1028/1028 [==============================] - 62s 60ms/step - loss: 0.3473 - categorical_accuracy: 0.8817 - val_loss: 0.3907 - val_categorical_accuracy: 0.8665\n",
      "Epoch 6/30\n",
      "1028/1028 [==============================] - 62s 60ms/step - loss: 0.3272 - categorical_accuracy: 0.8881 - val_loss: 0.3747 - val_categorical_accuracy: 0.8723\n",
      "Epoch 7/30\n",
      "1028/1028 [==============================] - 62s 61ms/step - loss: 0.3114 - categorical_accuracy: 0.8943 - val_loss: 0.3716 - val_categorical_accuracy: 0.8752\n",
      "Epoch 8/30\n",
      "1028/1028 [==============================] - 62s 61ms/step - loss: 0.2975 - categorical_accuracy: 0.8989 - val_loss: 0.3732 - val_categorical_accuracy: 0.8730\n",
      "Epoch 9/30\n",
      "1028/1028 [==============================] - 63s 61ms/step - loss: 0.2835 - categorical_accuracy: 0.9039 - val_loss: 0.3855 - val_categorical_accuracy: 0.8741\n",
      "Epoch 10/30\n",
      "1028/1028 [==============================] - 62s 60ms/step - loss: 0.2726 - categorical_accuracy: 0.9081 - val_loss: 0.3785 - val_categorical_accuracy: 0.8750\n",
      "Epoch 11/30\n",
      "1028/1028 [==============================] - 62s 60ms/step - loss: 0.2612 - categorical_accuracy: 0.9116 - val_loss: 0.3812 - val_categorical_accuracy: 0.8752\n",
      "Epoch 12/30\n",
      "1028/1028 [==============================] - 62s 60ms/step - loss: 0.2513 - categorical_accuracy: 0.9153 - val_loss: 0.3894 - val_categorical_accuracy: 0.8744\n"
     ]
    }
   ],
   "source": [
    "## Make sure to use GPU before running this cell. \n",
    "num_epochs = 30\n",
    "batch_size = 128\n",
    "## For early stopping to ensure it doesnt overfit\n",
    "callback = tf.keras.callbacks.EarlyStopping(monitor='loss', patience=4)\n",
    "history = model.fit(X_train, Y_train, \n",
    "                    epochs=num_epochs, batch_size=batch_size,\n",
    "                    validation_split=0.1,\n",
    "                    callbacks=[EarlyStopping(monitor='val_loss',\n",
    "                                             patience=5,\n",
    "                                             min_delta=0.0001)])"
   ]
  },
  {
   "cell_type": "code",
   "execution_count": 23,
   "metadata": {
    "execution": {
     "iopub.execute_input": "2023-05-06T08:30:18.137278Z",
     "iopub.status.busy": "2023-05-06T08:30:18.136823Z",
     "iopub.status.idle": "2023-05-06T08:30:18.397141Z",
     "shell.execute_reply": "2023-05-06T08:30:18.395955Z",
     "shell.execute_reply.started": "2023-05-06T08:30:18.137240Z"
    }
   },
   "outputs": [],
   "source": [
    "model.save('c_model.h5')"
   ]
  },
  {
   "cell_type": "code",
   "execution_count": 24,
   "metadata": {
    "execution": {
     "iopub.execute_input": "2023-05-06T08:30:31.025512Z",
     "iopub.status.busy": "2023-05-06T08:30:31.025092Z",
     "iopub.status.idle": "2023-05-06T08:30:38.310480Z",
     "shell.execute_reply": "2023-05-06T08:30:38.309307Z",
     "shell.execute_reply.started": "2023-05-06T08:30:31.025481Z"
    }
   },
   "outputs": [
    {
     "name": "stdout",
     "output_type": "stream",
     "text": [
      "508/508 [==============================] - 7s 14ms/step - loss: 0.3913 - categorical_accuracy: 0.8721\n",
      "Test set\n",
      "  Loss: 0.391\n",
      "  Accuracy: 0.872\n"
     ]
    }
   ],
   "source": [
    "accr = model.evaluate(X_test,Y_test)\n",
    "print('Test set\\n  Loss: {:0.3f}\\n  Accuracy: {:0.3f}'.format(accr[0],accr[1]))"
   ]
  },
  {
   "cell_type": "code",
   "execution_count": 25,
   "metadata": {
    "execution": {
     "iopub.execute_input": "2023-05-06T08:31:29.090011Z",
     "iopub.status.busy": "2023-05-06T08:31:29.089625Z",
     "iopub.status.idle": "2023-05-06T08:31:29.096911Z",
     "shell.execute_reply": "2023-05-06T08:31:29.096198Z",
     "shell.execute_reply.started": "2023-05-06T08:31:29.089980Z"
    }
   },
   "outputs": [
    {
     "data": {
      "text/plain": [
       "{'loss': [0.7826725244522095,\n",
       "  0.4690740704536438,\n",
       "  0.406101256608963,\n",
       "  0.3718186616897583,\n",
       "  0.3472558259963989,\n",
       "  0.3271888792514801,\n",
       "  0.3113754391670227,\n",
       "  0.2975282371044159,\n",
       "  0.28347280621528625,\n",
       "  0.2725900709629059,\n",
       "  0.26123958826065063,\n",
       "  0.25131258368492126],\n",
       " 'categorical_accuracy': [0.7033292651176453,\n",
       "  0.8375797867774963,\n",
       "  0.8612040281295776,\n",
       "  0.8731149435043335,\n",
       "  0.8817269802093506,\n",
       "  0.8881347179412842,\n",
       "  0.8942535519599915,\n",
       "  0.8988674283027649,\n",
       "  0.9039373397827148,\n",
       "  0.908079981803894,\n",
       "  0.911591649055481,\n",
       "  0.9152781963348389],\n",
       " 'val_loss': [0.5071946978569031,\n",
       "  0.4186137914657593,\n",
       "  0.403558611869812,\n",
       "  0.38929176330566406,\n",
       "  0.39070722460746765,\n",
       "  0.37473633885383606,\n",
       "  0.3715914487838745,\n",
       "  0.373182088136673,\n",
       "  0.3854842185974121,\n",
       "  0.37854817509651184,\n",
       "  0.38116276264190674,\n",
       "  0.38942939043045044],\n",
       " 'val_categorical_accuracy': [0.8176904916763306,\n",
       "  0.856957197189331,\n",
       "  0.8633875846862793,\n",
       "  0.8674237132072449,\n",
       "  0.8664659857749939,\n",
       "  0.8722807765007019,\n",
       "  0.8752223253250122,\n",
       "  0.8729648590087891,\n",
       "  0.8741278052330017,\n",
       "  0.8750171065330505,\n",
       "  0.8752223253250122,\n",
       "  0.8744014501571655]}"
      ]
     },
     "execution_count": 25,
     "metadata": {},
     "output_type": "execute_result"
    }
   ],
   "source": [
    "history.history"
   ]
  },
  {
   "cell_type": "code",
   "execution_count": 26,
   "metadata": {
    "execution": {
     "iopub.execute_input": "2023-05-06T08:31:31.993898Z",
     "iopub.status.busy": "2023-05-06T08:31:31.993491Z",
     "iopub.status.idle": "2023-05-06T08:31:32.228130Z",
     "shell.execute_reply": "2023-05-06T08:31:32.226785Z",
     "shell.execute_reply.started": "2023-05-06T08:31:31.993863Z"
    }
   },
   "outputs": [
    {
     "data": {
      "image/png": "[encoded data removed]",
      "text/plain": [
       "<Figure size 432x288 with 1 Axes>"
      ]
     },
     "metadata": {
      "needs_background": "light"
     },
     "output_type": "display_data"
    }
   ],
   "source": [
    "plt.title('Loss')\n",
    "plt.plot(history.history['loss'], label='train')\n",
    "plt.plot(history.history['val_loss'], label='test')\n",
    "plt.legend()\n",
    "plt.show();"
   ]
  },
  {
   "cell_type": "code",
   "execution_count": 27,
   "metadata": {
    "execution": {
     "iopub.execute_input": "2023-05-06T08:31:35.370304Z",
     "iopub.status.busy": "2023-05-06T08:31:35.369857Z",
     "iopub.status.idle": "2023-05-06T08:31:35.572282Z",
     "shell.execute_reply": "2023-05-06T08:31:35.571505Z",
     "shell.execute_reply.started": "2023-05-06T08:31:35.370268Z"
    }
   },
   "outputs": [
    {
     "data": {
      "image/png": "[encoded data removed]",
      "text/plain": [
       "<Figure size 432x288 with 1 Axes>"
      ]
     },
     "metadata": {
      "needs_background": "light"
     },
     "output_type": "display_data"
    }
   ],
   "source": [
    "plt.title('Accuracy')\n",
    "plt.plot(history.history['categorical_accuracy'], label='train')\n",
    "plt.plot(history.history['val_categorical_accuracy'], label='test')\n",
    "plt.legend()\n",
    "plt.show();"
   ]
  },
  {
   "cell_type": "markdown",
   "metadata": {},
   "source": [
    "# **Predict New Data**"
   ]
  },
  {
   "cell_type": "code",
   "execution_count": 28,
   "metadata": {
    "execution": {
     "iopub.execute_input": "2023-05-06T08:31:39.937897Z",
     "iopub.status.busy": "2023-05-06T08:31:39.937203Z",
     "iopub.status.idle": "2023-05-06T08:31:41.035801Z",
     "shell.execute_reply": "2023-05-06T08:31:41.034190Z",
     "shell.execute_reply.started": "2023-05-06T08:31:39.937857Z"
    }
   },
   "outputs": [
    {
     "name": "stdout",
     "output_type": "stream",
     "text": [
      "[[0.02180873 0.03030567 0.06199099 0.801448   0.08444665]] mortgages_and_loans\n"
     ]
    }
   ],
   "source": [
    "new_complaint = ['I received a loan from XYZ bank, but I am having trouble making my payments on time due to unforeseen circumstances. I have reached out to the bank to discuss my options, but they have been unresponsive and have not provided any helpful solutions. I am concerned about the impact this will have on my credit score and financial stability, and I would like to find a resolution as soon as possible.']\n",
    "seq = tokenizer.texts_to_sequences(new_complaint)\n",
    "padded = pad_sequences(seq, maxlen=110)\n",
    "pred = model.predict(padded)\n",
    "labels = ['credit_card',\n",
    "'credit_reporting',\n",
    "'debt_collection',\n",
    "'mortgages_and_loans',\n",
    "'retail_banking']\n",
    "print(pred, labels[np.argmax(pred)])"
   ]
  },
  {
   "cell_type": "code",
   "execution_count": 31,
   "metadata": {
    "execution": {
     "iopub.execute_input": "2023-05-06T08:33:45.808830Z",
     "iopub.status.busy": "2023-05-06T08:33:45.808459Z",
     "iopub.status.idle": "2023-05-06T08:33:45.815380Z",
     "shell.execute_reply": "2023-05-06T08:33:45.814418Z",
     "shell.execute_reply.started": "2023-05-06T08:33:45.808800Z"
    }
   },
   "outputs": [],
   "source": [
    "json_string = model.to_json()"
   ]
  }
 ],
 "metadata": {
  "kernelspec": {
   "display_name": "Python 3 (ipykernel)",
   "language": "python",
   "name": "python3"
  },
  "language_info": {
   "codemirror_mode": {
    "name": "ipython",
    "version": 3
   },
   "file_extension": ".py",
   "mimetype": "text/x-python",
   "name": "python",
   "nbconvert_exporter": "python",
   "pygments_lexer": "ipython3",
   "version": "3.8.16"
  }
 },
 "nbformat": 4,
 "nbformat_minor": 4
}
